{
  "nbformat": 4,
  "nbformat_minor": 0,
  "metadata": {
    "colab": {
      "name": "IntroToPandas.ipynb",
      "provenance": [],
      "collapsed_sections": [],
      "include_colab_link": true
    },
    "kernelspec": {
      "name": "python3",
      "display_name": "Python 3"
    },
    "language_info": {
      "name": "python"
    }
  },
  "cells": [
    {
      "cell_type": "markdown",
      "metadata": {
        "id": "view-in-github",
        "colab_type": "text"
      },
      "source": [
        "<a href=\"https://colab.research.google.com/github/Bbat54/Bbat54/blob/main/IntroToPandas.ipynb\" target=\"_parent\"><img src=\"https://colab.research.google.com/assets/colab-badge.svg\" alt=\"Open In Colab\"/></a>"
      ]
    },
    {
      "cell_type": "markdown",
      "source": [
        "# Introduction to Pandas\n",
        "\n",
        "This is a brief introduction to the pandas library in Python for working with datasets as pandas Data Frames.\n",
        "\n",
        "This is a very rich library with many methods and important features that we won't have time to exhaustively explore.\n",
        "\n",
        "https://pandas.pydata.org/docs/index.html"
      ],
      "metadata": {
        "id": "JM0T4Dk-XG7z"
      }
    },
    {
      "cell_type": "code",
      "execution_count": null,
      "metadata": {
        "id": "w2x4eWDIXDQN"
      },
      "outputs": [],
      "source": [
        "import pandas as pd #called as a library\n",
        "\n",
        "mydata = pd.read_csv(\"/cereals.csv\")"
      ]
    },
    {
      "cell_type": "code",
      "source": [
        "mydata"
      ],
      "metadata": {
        "id": "NP4c9ua5YCpY"
      },
      "execution_count": null,
      "outputs": []
    },
    {
      "cell_type": "code",
      "source": [
        "mydata.calories"
      ],
      "metadata": {
        "id": "c9JzAf8VZV3V"
      },
      "execution_count": null,
      "outputs": []
    },
    {
      "cell_type": "markdown",
      "source": [
        "# Filtering"
      ],
      "metadata": {
        "id": "a2yeRHqgYvOI"
      }
    },
    {
      "cell_type": "code",
      "source": [
        "# mydata[mydata.calories > 100]\n",
        "mydata[mydata[\"calories\"] > 100]"
      ],
      "metadata": {
        "id": "JNwUKFtWYDgO"
      },
      "execution_count": null,
      "outputs": []
    },
    {
      "cell_type": "markdown",
      "source": [
        "# Select (Columns/Variables)"
      ],
      "metadata": {
        "id": "mFzEUM7jZdQP"
      }
    },
    {
      "cell_type": "code",
      "source": [
        "# mydata[\"calories\"]\n",
        "mydata[[\"calories\", \"protein\"]]"
      ],
      "metadata": {
        "id": "V6Af_4IEZJof"
      },
      "execution_count": null,
      "outputs": []
    },
    {
      "cell_type": "markdown",
      "source": [
        "# Arrange (sort)"
      ],
      "metadata": {
        "id": "KA0rHb31Z2UJ"
      }
    },
    {
      "cell_type": "code",
      "source": [
        "mydata.sort_values(by = [\"calories\"])"
      ],
      "metadata": {
        "id": "yvW-jvG9Z02d"
      },
      "execution_count": null,
      "outputs": []
    },
    {
      "cell_type": "code",
      "source": [
        "mydata.sort_values(by = \"name\")"
      ],
      "metadata": {
        "id": "ZNNoYTnvaHSK"
      },
      "execution_count": null,
      "outputs": []
    },
    {
      "cell_type": "markdown",
      "source": [
        "# Mutate (Add Column)"
      ],
      "metadata": {
        "id": "RdrbvDFHaUyI"
      }
    },
    {
      "cell_type": "code",
      "source": [
        "mydata[\"newcol1\"] = 5\n",
        "mydata.assign(newcol2 = lambda x: x.calories/1000)"
      ],
      "metadata": {
        "id": "I2iJoRO-aPtg"
      },
      "execution_count": null,
      "outputs": []
    },
    {
      "cell_type": "markdown",
      "source": [
        "Check out this for more ways to add columns:\n",
        "\n",
        "https://dataindependent.com/pandas/add-column-to-dataframe-pandas/"
      ],
      "metadata": {
        "id": "Ff2Y2Ob5bdU6"
      }
    },
    {
      "cell_type": "markdown",
      "source": [
        "# Summarizing"
      ],
      "metadata": {
        "id": "7akxkd3LbiOz"
      }
    },
    {
      "cell_type": "code",
      "source": [
        " mydata.describe()"
      ],
      "metadata": {
        "id": "aRhwhEC9bgev"
      },
      "execution_count": null,
      "outputs": []
    },
    {
      "cell_type": "code",
      "source": [
        "mydata.groupby(\"shelf\").describe()"
      ],
      "metadata": {
        "id": "I96XbBm-b39Y"
      },
      "execution_count": null,
      "outputs": []
    }
  ]
}